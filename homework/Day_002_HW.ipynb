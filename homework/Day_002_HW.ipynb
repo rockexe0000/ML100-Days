{
 "cells": [
  {
   "cell_type": "markdown",
   "metadata": {},
   "source": [
    "## 練習時間\n",
    "資料的操作有很多，接下來的馬拉松中我們會介紹常被使用到的操作，參加者不妨先自行想像一下，第一次看到資料，我們一般會想知道什麼訊息？\n",
    "\n",
    "#### Ex: 如何知道資料的 row 數以及 column 數、有什麼欄位、多少欄位、如何截取部分的資料等等\n",
    "\n",
    "有了對資料的好奇之後，我們又怎麼通過程式碼來達成我們的目的呢？\n",
    "\n",
    "#### 可參考該[基礎教材](https://bookdata.readthedocs.io/en/latest/base/01_pandas.html#DataFrame-%E5%85%A5%E9%97%A8)或自行 google"
   ]
  },
  {
   "cell_type": "code",
   "execution_count": 5,
   "metadata": {},
   "outputs": [],
   "source": [
    "import os\n",
    "import numpy as np\n",
    "import pandas as pd"
   ]
  },
  {
   "cell_type": "code",
   "execution_count": 8,
   "metadata": {},
   "outputs": [],
   "source": [
    "# 設定 data_path\n",
    "dir_data = 'D:/GitHub/ML100-Days/D2/data/'"
   ]
  },
  {
   "cell_type": "code",
   "execution_count": 10,
   "metadata": {},
   "outputs": [
    {
     "name": "stdout",
     "output_type": "stream",
     "text": [
      "Path of read in data: D:/GitHub/ML100-Days/D2/data/application_train.csv\n"
     ]
    }
   ],
   "source": [
    "f_app = os.path.join(dir_data, 'application_train.csv')\n",
    "print('Path of read in data: %s' % (f_app))\n",
    "app_train = pd.read_csv(f_app)"
   ]
  },
  {
   "cell_type": "markdown",
   "metadata": {},
   "source": [
    "### 如果沒有想法，可以先嘗試找出剛剛例子中提到的問題的答案\n",
    "#### 資料的 row 數以及 column 數"
   ]
  },
  {
   "cell_type": "code",
   "execution_count": 25,
   "metadata": {},
   "outputs": [
    {
     "name": "stdout",
     "output_type": "stream",
     "text": [
      "<class 'pandas.core.frame.DataFrame'>\n",
      "RangeIndex: 307511 entries, 0 to 307510\n",
      "Columns: 122 entries, SK_ID_CURR to AMT_REQ_CREDIT_BUREAU_YEAR\n",
      "dtypes: float64(65), int64(41), object(16)\n",
      "memory usage: 286.2+ MB\n",
      "Number of rows in train dataset: 307511\n",
      "Number of columns in train dataset: 122\n",
      "Number of rows in train dataset: 307511\n",
      "Number of columns in train dataset: 122\n"
     ]
    }
   ],
   "source": [
    "app_train.info()\n",
    "print('Number of rows in train dataset: %s' %app_train.shape[0])\n",
    "print('Number of columns in train dataset: %s' %app_train.shape[1])"
   ]
  },
  {
   "cell_type": "markdown",
   "metadata": {},
   "source": [
    "#### 列出所有欄位"
   ]
  },
  {
   "cell_type": "code",
   "execution_count": 23,
   "metadata": {},
   "outputs": [
    {
     "name": "stdout",
     "output_type": "stream",
     "text": [
      "1 Col name: SK_ID_CURR\n",
      "2 Col name: TARGET\n",
      "3 Col name: NAME_CONTRACT_TYPE\n",
      "4 Col name: CODE_GENDER\n",
      "5 Col name: FLAG_OWN_CAR\n",
      "6 Col name: FLAG_OWN_REALTY\n",
      "7 Col name: CNT_CHILDREN\n",
      "8 Col name: AMT_INCOME_TOTAL\n",
      "9 Col name: AMT_CREDIT\n",
      "10 Col name: AMT_ANNUITY\n",
      "11 Col name: AMT_GOODS_PRICE\n",
      "12 Col name: NAME_TYPE_SUITE\n",
      "13 Col name: NAME_INCOME_TYPE\n",
      "14 Col name: NAME_EDUCATION_TYPE\n",
      "15 Col name: NAME_FAMILY_STATUS\n",
      "16 Col name: NAME_HOUSING_TYPE\n",
      "17 Col name: REGION_POPULATION_RELATIVE\n",
      "18 Col name: DAYS_BIRTH\n",
      "19 Col name: DAYS_EMPLOYED\n",
      "20 Col name: DAYS_REGISTRATION\n",
      "21 Col name: DAYS_ID_PUBLISH\n",
      "22 Col name: OWN_CAR_AGE\n",
      "23 Col name: FLAG_MOBIL\n",
      "24 Col name: FLAG_EMP_PHONE\n",
      "25 Col name: FLAG_WORK_PHONE\n",
      "26 Col name: FLAG_CONT_MOBILE\n",
      "27 Col name: FLAG_PHONE\n",
      "28 Col name: FLAG_EMAIL\n",
      "29 Col name: OCCUPATION_TYPE\n",
      "30 Col name: CNT_FAM_MEMBERS\n",
      "31 Col name: REGION_RATING_CLIENT\n",
      "32 Col name: REGION_RATING_CLIENT_W_CITY\n",
      "33 Col name: WEEKDAY_APPR_PROCESS_START\n",
      "34 Col name: HOUR_APPR_PROCESS_START\n",
      "35 Col name: REG_REGION_NOT_LIVE_REGION\n",
      "36 Col name: REG_REGION_NOT_WORK_REGION\n",
      "37 Col name: LIVE_REGION_NOT_WORK_REGION\n",
      "38 Col name: REG_CITY_NOT_LIVE_CITY\n",
      "39 Col name: REG_CITY_NOT_WORK_CITY\n",
      "40 Col name: LIVE_CITY_NOT_WORK_CITY\n",
      "41 Col name: ORGANIZATION_TYPE\n",
      "42 Col name: EXT_SOURCE_1\n",
      "43 Col name: EXT_SOURCE_2\n",
      "44 Col name: EXT_SOURCE_3\n",
      "45 Col name: APARTMENTS_AVG\n",
      "46 Col name: BASEMENTAREA_AVG\n",
      "47 Col name: YEARS_BEGINEXPLUATATION_AVG\n",
      "48 Col name: YEARS_BUILD_AVG\n",
      "49 Col name: COMMONAREA_AVG\n",
      "50 Col name: ELEVATORS_AVG\n",
      "51 Col name: ENTRANCES_AVG\n",
      "52 Col name: FLOORSMAX_AVG\n",
      "53 Col name: FLOORSMIN_AVG\n",
      "54 Col name: LANDAREA_AVG\n",
      "55 Col name: LIVINGAPARTMENTS_AVG\n",
      "56 Col name: LIVINGAREA_AVG\n",
      "57 Col name: NONLIVINGAPARTMENTS_AVG\n",
      "58 Col name: NONLIVINGAREA_AVG\n",
      "59 Col name: APARTMENTS_MODE\n",
      "60 Col name: BASEMENTAREA_MODE\n",
      "61 Col name: YEARS_BEGINEXPLUATATION_MODE\n",
      "62 Col name: YEARS_BUILD_MODE\n",
      "63 Col name: COMMONAREA_MODE\n",
      "64 Col name: ELEVATORS_MODE\n",
      "65 Col name: ENTRANCES_MODE\n",
      "66 Col name: FLOORSMAX_MODE\n",
      "67 Col name: FLOORSMIN_MODE\n",
      "68 Col name: LANDAREA_MODE\n",
      "69 Col name: LIVINGAPARTMENTS_MODE\n",
      "70 Col name: LIVINGAREA_MODE\n",
      "71 Col name: NONLIVINGAPARTMENTS_MODE\n",
      "72 Col name: NONLIVINGAREA_MODE\n",
      "73 Col name: APARTMENTS_MEDI\n",
      "74 Col name: BASEMENTAREA_MEDI\n",
      "75 Col name: YEARS_BEGINEXPLUATATION_MEDI\n",
      "76 Col name: YEARS_BUILD_MEDI\n",
      "77 Col name: COMMONAREA_MEDI\n",
      "78 Col name: ELEVATORS_MEDI\n",
      "79 Col name: ENTRANCES_MEDI\n",
      "80 Col name: FLOORSMAX_MEDI\n",
      "81 Col name: FLOORSMIN_MEDI\n",
      "82 Col name: LANDAREA_MEDI\n",
      "83 Col name: LIVINGAPARTMENTS_MEDI\n",
      "84 Col name: LIVINGAREA_MEDI\n",
      "85 Col name: NONLIVINGAPARTMENTS_MEDI\n",
      "86 Col name: NONLIVINGAREA_MEDI\n",
      "87 Col name: FONDKAPREMONT_MODE\n",
      "88 Col name: HOUSETYPE_MODE\n",
      "89 Col name: TOTALAREA_MODE\n",
      "90 Col name: WALLSMATERIAL_MODE\n",
      "91 Col name: EMERGENCYSTATE_MODE\n",
      "92 Col name: OBS_30_CNT_SOCIAL_CIRCLE\n",
      "93 Col name: DEF_30_CNT_SOCIAL_CIRCLE\n",
      "94 Col name: OBS_60_CNT_SOCIAL_CIRCLE\n",
      "95 Col name: DEF_60_CNT_SOCIAL_CIRCLE\n",
      "96 Col name: DAYS_LAST_PHONE_CHANGE\n",
      "97 Col name: FLAG_DOCUMENT_2\n",
      "98 Col name: FLAG_DOCUMENT_3\n",
      "99 Col name: FLAG_DOCUMENT_4\n",
      "100 Col name: FLAG_DOCUMENT_5\n",
      "101 Col name: FLAG_DOCUMENT_6\n",
      "102 Col name: FLAG_DOCUMENT_7\n",
      "103 Col name: FLAG_DOCUMENT_8\n",
      "104 Col name: FLAG_DOCUMENT_9\n",
      "105 Col name: FLAG_DOCUMENT_10\n",
      "106 Col name: FLAG_DOCUMENT_11\n",
      "107 Col name: FLAG_DOCUMENT_12\n",
      "108 Col name: FLAG_DOCUMENT_13\n",
      "109 Col name: FLAG_DOCUMENT_14\n",
      "110 Col name: FLAG_DOCUMENT_15\n",
      "111 Col name: FLAG_DOCUMENT_16\n",
      "112 Col name: FLAG_DOCUMENT_17\n",
      "113 Col name: FLAG_DOCUMENT_18\n",
      "114 Col name: FLAG_DOCUMENT_19\n",
      "115 Col name: FLAG_DOCUMENT_20\n",
      "116 Col name: FLAG_DOCUMENT_21\n",
      "117 Col name: AMT_REQ_CREDIT_BUREAU_HOUR\n",
      "118 Col name: AMT_REQ_CREDIT_BUREAU_DAY\n",
      "119 Col name: AMT_REQ_CREDIT_BUREAU_WEEK\n",
      "120 Col name: AMT_REQ_CREDIT_BUREAU_MON\n",
      "121 Col name: AMT_REQ_CREDIT_BUREAU_QRT\n",
      "122 Col name: AMT_REQ_CREDIT_BUREAU_YEAR\n"
     ]
    }
   ],
   "source": [
    "df=app_train\n",
    "# 下面的两个方法没怎么搞懂\n",
    "df.iteritems()# (col-index, Series) pairs\n",
    "df.iterrows() # (row-index, Series) pairs\n",
    "# example ... iterating over columns\n",
    "num=1\n",
    "for (name, series) in df.iteritems():\n",
    "    print(str(num)+' Col name: ' + str(name))\n",
    "    num+=1"
   ]
  },
  {
   "cell_type": "markdown",
   "metadata": {},
   "source": [
    "#### 截取部分資料"
   ]
  },
  {
   "cell_type": "code",
   "execution_count": 27,
   "metadata": {},
   "outputs": [
    {
     "data": {
      "text/html": [
       "<div>\n",
       "<style scoped>\n",
       "    .dataframe tbody tr th:only-of-type {\n",
       "        vertical-align: middle;\n",
       "    }\n",
       "\n",
       "    .dataframe tbody tr th {\n",
       "        vertical-align: top;\n",
       "    }\n",
       "\n",
       "    .dataframe thead th {\n",
       "        text-align: right;\n",
       "    }\n",
       "</style>\n",
       "<table border=\"1\" class=\"dataframe\">\n",
       "  <thead>\n",
       "    <tr style=\"text-align: right;\">\n",
       "      <th></th>\n",
       "      <th>NAME_TYPE_SUITE</th>\n",
       "      <th>NAME_INCOME_TYPE</th>\n",
       "      <th>NAME_EDUCATION_TYPE</th>\n",
       "      <th>NAME_FAMILY_STATUS</th>\n",
       "    </tr>\n",
       "  </thead>\n",
       "  <tbody>\n",
       "    <tr>\n",
       "      <th>100</th>\n",
       "      <td>Unaccompanied</td>\n",
       "      <td>Working</td>\n",
       "      <td>Secondary / secondary special</td>\n",
       "      <td>Married</td>\n",
       "    </tr>\n",
       "    <tr>\n",
       "      <th>101</th>\n",
       "      <td>Unaccompanied</td>\n",
       "      <td>Working</td>\n",
       "      <td>Higher education</td>\n",
       "      <td>Married</td>\n",
       "    </tr>\n",
       "    <tr>\n",
       "      <th>102</th>\n",
       "      <td>Unaccompanied</td>\n",
       "      <td>Working</td>\n",
       "      <td>Secondary / secondary special</td>\n",
       "      <td>Married</td>\n",
       "    </tr>\n",
       "    <tr>\n",
       "      <th>103</th>\n",
       "      <td>Unaccompanied</td>\n",
       "      <td>Commercial associate</td>\n",
       "      <td>Higher education</td>\n",
       "      <td>Married</td>\n",
       "    </tr>\n",
       "    <tr>\n",
       "      <th>104</th>\n",
       "      <td>Unaccompanied</td>\n",
       "      <td>Working</td>\n",
       "      <td>Secondary / secondary special</td>\n",
       "      <td>Widow</td>\n",
       "    </tr>\n",
       "    <tr>\n",
       "      <th>105</th>\n",
       "      <td>Unaccompanied</td>\n",
       "      <td>Pensioner</td>\n",
       "      <td>Secondary / secondary special</td>\n",
       "      <td>Widow</td>\n",
       "    </tr>\n",
       "    <tr>\n",
       "      <th>106</th>\n",
       "      <td>Unaccompanied</td>\n",
       "      <td>Pensioner</td>\n",
       "      <td>Secondary / secondary special</td>\n",
       "      <td>Married</td>\n",
       "    </tr>\n",
       "    <tr>\n",
       "      <th>107</th>\n",
       "      <td>Family</td>\n",
       "      <td>Working</td>\n",
       "      <td>Secondary / secondary special</td>\n",
       "      <td>Married</td>\n",
       "    </tr>\n",
       "    <tr>\n",
       "      <th>108</th>\n",
       "      <td>Unaccompanied</td>\n",
       "      <td>Pensioner</td>\n",
       "      <td>Secondary / secondary special</td>\n",
       "      <td>Married</td>\n",
       "    </tr>\n",
       "    <tr>\n",
       "      <th>109</th>\n",
       "      <td>Unaccompanied</td>\n",
       "      <td>Working</td>\n",
       "      <td>Higher education</td>\n",
       "      <td>Married</td>\n",
       "    </tr>\n",
       "    <tr>\n",
       "      <th>110</th>\n",
       "      <td>Unaccompanied</td>\n",
       "      <td>Commercial associate</td>\n",
       "      <td>Incomplete higher</td>\n",
       "      <td>Separated</td>\n",
       "    </tr>\n",
       "  </tbody>\n",
       "</table>\n",
       "</div>"
      ],
      "text/plain": [
       "    NAME_TYPE_SUITE      NAME_INCOME_TYPE            NAME_EDUCATION_TYPE  \\\n",
       "100   Unaccompanied               Working  Secondary / secondary special   \n",
       "101   Unaccompanied               Working               Higher education   \n",
       "102   Unaccompanied               Working  Secondary / secondary special   \n",
       "103   Unaccompanied  Commercial associate               Higher education   \n",
       "104   Unaccompanied               Working  Secondary / secondary special   \n",
       "105   Unaccompanied             Pensioner  Secondary / secondary special   \n",
       "106   Unaccompanied             Pensioner  Secondary / secondary special   \n",
       "107          Family               Working  Secondary / secondary special   \n",
       "108   Unaccompanied             Pensioner  Secondary / secondary special   \n",
       "109   Unaccompanied               Working               Higher education   \n",
       "110   Unaccompanied  Commercial associate              Incomplete higher   \n",
       "\n",
       "    NAME_FAMILY_STATUS  \n",
       "100            Married  \n",
       "101            Married  \n",
       "102            Married  \n",
       "103            Married  \n",
       "104              Widow  \n",
       "105              Widow  \n",
       "106            Married  \n",
       "107            Married  \n",
       "108            Married  \n",
       "109            Married  \n",
       "110          Separated  "
      ]
     },
     "execution_count": 27,
     "metadata": {},
     "output_type": "execute_result"
    }
   ],
   "source": [
    "app_train.loc[100:110, ['NAME_TYPE_SUITE', 'NAME_INCOME_TYPE', 'NAME_EDUCATION_TYPE', 'NAME_FAMILY_STATUS']]"
   ]
  },
  {
   "cell_type": "markdown",
   "metadata": {},
   "source": [
    "#### 還有各種數之不盡的資料操作，重點還是取決於實務中遇到的狀況和你想問的問題，在馬拉松中我們也會陸續提到更多例子"
   ]
  },
  {
   "cell_type": "code",
   "execution_count": null,
   "metadata": {
    "collapsed": true
   },
   "outputs": [],
   "source": []
  }
 ],
 "metadata": {
  "kernelspec": {
   "display_name": "Python 3",
   "language": "python",
   "name": "python3"
  },
  "language_info": {
   "codemirror_mode": {
    "name": "ipython",
    "version": 3
   },
   "file_extension": ".py",
   "mimetype": "text/x-python",
   "name": "python",
   "nbconvert_exporter": "python",
   "pygments_lexer": "ipython3",
   "version": "3.7.1"
  }
 },
 "nbformat": 4,
 "nbformat_minor": 2
}
