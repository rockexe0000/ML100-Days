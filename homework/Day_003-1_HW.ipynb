{
 "cells": [
  {
   "cell_type": "markdown",
   "metadata": {},
   "source": [
    "## 練習時間\n",
    "在小量的資料上，我們用眼睛就可以看得出來程式碼是否有跑出我們理想中的結果\n",
    "\n",
    "請嘗試想像一個你需要的資料結構 (裡面的值可以是隨機的)，然後用上述的方法把它變成 pandas DataFrame\n",
    "\n",
    "#### Ex: 想像一個 dataframe 有兩個欄位，一個是國家，一個是人口，求人口數最多的國家\n",
    "\n",
    "### Hints: [隨機產生數值](https://blog.csdn.net/christianashannon/article/details/78867204)"
   ]
  },
  {
   "cell_type": "code",
   "execution_count": 16,
   "metadata": {},
   "outputs": [],
   "source": [
    "import pandas as pd\n",
    "import numpy as np"
   ]
  },
  {
   "cell_type": "code",
   "execution_count": 48,
   "metadata": {},
   "outputs": [
    {
     "name": "stdout",
     "output_type": "stream",
     "text": [
      "data=[\n",
      "    國家            人口\n",
      "0  國家0   [888253169]\n",
      "1  國家1  [1310772811]\n",
      "2  國家2   [231471491]\n",
      "3  國家3  [1984777168]\n",
      "4  國家4  [1889303787]\n",
      "5  國家5   [461779416]\n",
      "6  國家6  [1064712915]\n",
      "7  國家7   [175143059]\n",
      "8  國家8   [587451391]\n",
      "9  國家9   [619119512]\n",
      "] \n",
      "data[\"人口\"].max()=[\n",
      "[1984777168]\n",
      "] \n",
      "data[fliter]=[\n",
      "    國家            人口\n",
      "3  國家3  [1984777168]\n",
      "] \n"
     ]
    }
   ],
   "source": [
    "data = {'國家': [],'人口': []}\n",
    "\n",
    "for num in range(0,10):\n",
    "    data['國家'].append('國家'+str(num))\n",
    "    data['人口'].append(np.random.randint(0, 2e9, 1))\n",
    "    \n",
    "data = pd.DataFrame(data)\n",
    "print('data=[\\n%s\\n] ' % (data))\n",
    "\n",
    "\n",
    "print('data[\"人口\"].max()=[\\n%s\\n] ' % (data['人口'].max()))\n",
    "\n",
    "\n",
    "fliter = (data['人口'] == int(data['人口'].max()))\n",
    "print('data[fliter]=[\\n%s\\n] ' % (data[fliter]))\n",
    "\n",
    "\n",
    "\n"
   ]
  },
  {
   "cell_type": "code",
   "execution_count": null,
   "metadata": {},
   "outputs": [],
   "source": []
  },
  {
   "cell_type": "code",
   "execution_count": null,
   "metadata": {},
   "outputs": [],
   "source": []
  }
 ],
 "metadata": {
  "kernelspec": {
   "display_name": "Python 3",
   "language": "python",
   "name": "python3"
  },
  "language_info": {
   "codemirror_mode": {
    "name": "ipython",
    "version": 3
   },
   "file_extension": ".py",
   "mimetype": "text/x-python",
   "name": "python",
   "nbconvert_exporter": "python",
   "pygments_lexer": "ipython3",
   "version": "3.7.1"
  }
 },
 "nbformat": 4,
 "nbformat_minor": 2
}
